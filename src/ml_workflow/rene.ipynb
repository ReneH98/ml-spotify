{
 "cells": [
  {
   "cell_type": "markdown",
   "metadata": {},
   "source": [
    "# Spotify Genre Classifier"
   ]
  },
  {
   "cell_type": "markdown",
   "metadata": {},
   "source": [
    "## Setup"
   ]
  },
  {
   "cell_type": "code",
   "execution_count": 94,
   "metadata": {},
   "outputs": [],
   "source": [
    "# imports\n",
    "import pandas as pd\n",
    "import numpy as np\n",
    "import matplotlib.pyplot as plt\n",
    "import seaborn as sns\n",
    "from os import walk, path\n",
    "from sklearn.preprocessing import StandardScaler\n",
    "from sklearn.pipeline import Pipeline\n",
    "from sklearn.svm import SVC\n",
    "from scipy import stats\n",
    "from sklearn.feature_selection import SelectKBest, SelectPercentile, chi2, f_classif, mutual_info_classif, SequentialFeatureSelector\n",
    "from sklearn.ensemble import RandomForestClassifier\n",
    "from sklearn.model_selection import train_test_split, GridSearchCV\n",
    "from sklearn.decomposition import PCA"
   ]
  },
  {
   "cell_type": "code",
   "execution_count": 2,
   "metadata": {},
   "outputs": [],
   "source": [
    "# load data\n",
    "\n",
    "# get all filenames from the directory data\n",
    "f = []\n",
    "for (dirpath, dirnames, filenames) in walk(\"data\"):\n",
    "    f.extend(filenames)\n",
    "    break\n",
    "\n",
    "# load data from all files from the directory data\n",
    "frames = []\n",
    "for file in f:\n",
    "    data = pd.read_json(path.join(\"data\", file))\n",
    "    frames.append(data)\n",
    "\n",
    "# concat all data into one dataframe\n",
    "raw_data = pd.concat(frames, ignore_index=True)"
   ]
  },
  {
   "cell_type": "markdown",
   "metadata": {},
   "source": [
    "## Visualization"
   ]
  },
  {
   "cell_type": "markdown",
   "metadata": {},
   "source": [
    "### Clean Dataset"
   ]
  },
  {
   "cell_type": "code",
   "execution_count": 3,
   "metadata": {},
   "outputs": [
    {
     "data": {
      "text/html": [
       "<div>\n",
       "<style scoped>\n",
       "    .dataframe tbody tr th:only-of-type {\n",
       "        vertical-align: middle;\n",
       "    }\n",
       "\n",
       "    .dataframe tbody tr th {\n",
       "        vertical-align: top;\n",
       "    }\n",
       "\n",
       "    .dataframe thead th {\n",
       "        text-align: right;\n",
       "    }\n",
       "</style>\n",
       "<table border=\"1\" class=\"dataframe\">\n",
       "  <thead>\n",
       "    <tr style=\"text-align: right;\">\n",
       "      <th></th>\n",
       "      <th>danceability</th>\n",
       "      <th>energy</th>\n",
       "      <th>key</th>\n",
       "      <th>loudness</th>\n",
       "      <th>mode</th>\n",
       "      <th>speechiness</th>\n",
       "      <th>acousticness</th>\n",
       "      <th>instrumentalness</th>\n",
       "      <th>liveness</th>\n",
       "      <th>valence</th>\n",
       "      <th>tempo</th>\n",
       "      <th>type</th>\n",
       "      <th>id</th>\n",
       "      <th>uri</th>\n",
       "      <th>track_href</th>\n",
       "      <th>analysis_url</th>\n",
       "      <th>duration_ms</th>\n",
       "      <th>time_signature</th>\n",
       "      <th>genre</th>\n",
       "    </tr>\n",
       "  </thead>\n",
       "  <tbody>\n",
       "    <tr>\n",
       "      <th>0</th>\n",
       "      <td>0.1930</td>\n",
       "      <td>0.11600</td>\n",
       "      <td>9</td>\n",
       "      <td>-25.718</td>\n",
       "      <td>1</td>\n",
       "      <td>0.0608</td>\n",
       "      <td>0.986</td>\n",
       "      <td>0.91800</td>\n",
       "      <td>0.5050</td>\n",
       "      <td>0.0836</td>\n",
       "      <td>143.301</td>\n",
       "      <td>audio_features</td>\n",
       "      <td>6pV1dGidc6DvzjKhbMqgDa</td>\n",
       "      <td>spotify:track:6pV1dGidc6DvzjKhbMqgDa</td>\n",
       "      <td>https://api.spotify.com/v1/tracks/6pV1dGidc6Dv...</td>\n",
       "      <td>https://api.spotify.com/v1/audio-analysis/6pV1...</td>\n",
       "      <td>242467</td>\n",
       "      <td>3</td>\n",
       "      <td>classic</td>\n",
       "    </tr>\n",
       "    <tr>\n",
       "      <th>1</th>\n",
       "      <td>0.3210</td>\n",
       "      <td>0.00611</td>\n",
       "      <td>4</td>\n",
       "      <td>-38.341</td>\n",
       "      <td>0</td>\n",
       "      <td>0.0362</td>\n",
       "      <td>0.995</td>\n",
       "      <td>0.90800</td>\n",
       "      <td>0.0900</td>\n",
       "      <td>0.0693</td>\n",
       "      <td>104.311</td>\n",
       "      <td>audio_features</td>\n",
       "      <td>1YcABWwgkfrOSw8VMgDWZU</td>\n",
       "      <td>spotify:track:1YcABWwgkfrOSw8VMgDWZU</td>\n",
       "      <td>https://api.spotify.com/v1/tracks/1YcABWwgkfrO...</td>\n",
       "      <td>https://api.spotify.com/v1/audio-analysis/1YcA...</td>\n",
       "      <td>205493</td>\n",
       "      <td>4</td>\n",
       "      <td>classic</td>\n",
       "    </tr>\n",
       "    <tr>\n",
       "      <th>2</th>\n",
       "      <td>0.4480</td>\n",
       "      <td>0.00520</td>\n",
       "      <td>4</td>\n",
       "      <td>-36.512</td>\n",
       "      <td>1</td>\n",
       "      <td>0.0564</td>\n",
       "      <td>0.995</td>\n",
       "      <td>0.88000</td>\n",
       "      <td>0.0698</td>\n",
       "      <td>0.0398</td>\n",
       "      <td>62.171</td>\n",
       "      <td>audio_features</td>\n",
       "      <td>1juisCcrVdwoLbDWyVvNrX</td>\n",
       "      <td>spotify:track:1juisCcrVdwoLbDWyVvNrX</td>\n",
       "      <td>https://api.spotify.com/v1/tracks/1juisCcrVdwo...</td>\n",
       "      <td>https://api.spotify.com/v1/audio-analysis/1jui...</td>\n",
       "      <td>369027</td>\n",
       "      <td>4</td>\n",
       "      <td>classic</td>\n",
       "    </tr>\n",
       "    <tr>\n",
       "      <th>3</th>\n",
       "      <td>0.4250</td>\n",
       "      <td>0.03630</td>\n",
       "      <td>1</td>\n",
       "      <td>-21.629</td>\n",
       "      <td>0</td>\n",
       "      <td>0.0686</td>\n",
       "      <td>0.991</td>\n",
       "      <td>0.00109</td>\n",
       "      <td>0.2500</td>\n",
       "      <td>0.7450</td>\n",
       "      <td>78.991</td>\n",
       "      <td>audio_features</td>\n",
       "      <td>1AKdBq4wtJKU9DhQpekvtc</td>\n",
       "      <td>spotify:track:1AKdBq4wtJKU9DhQpekvtc</td>\n",
       "      <td>https://api.spotify.com/v1/tracks/1AKdBq4wtJKU...</td>\n",
       "      <td>https://api.spotify.com/v1/audio-analysis/1AKd...</td>\n",
       "      <td>143777</td>\n",
       "      <td>4</td>\n",
       "      <td>classic</td>\n",
       "    </tr>\n",
       "    <tr>\n",
       "      <th>4</th>\n",
       "      <td>0.0748</td>\n",
       "      <td>0.04420</td>\n",
       "      <td>0</td>\n",
       "      <td>-19.183</td>\n",
       "      <td>1</td>\n",
       "      <td>0.0426</td>\n",
       "      <td>0.957</td>\n",
       "      <td>0.94000</td>\n",
       "      <td>0.1160</td>\n",
       "      <td>0.0369</td>\n",
       "      <td>79.092</td>\n",
       "      <td>audio_features</td>\n",
       "      <td>5X5x6oRSCHtHEz28ncMVd5</td>\n",
       "      <td>spotify:track:5X5x6oRSCHtHEz28ncMVd5</td>\n",
       "      <td>https://api.spotify.com/v1/tracks/5X5x6oRSCHtH...</td>\n",
       "      <td>https://api.spotify.com/v1/audio-analysis/5X5x...</td>\n",
       "      <td>348907</td>\n",
       "      <td>4</td>\n",
       "      <td>classic</td>\n",
       "    </tr>\n",
       "  </tbody>\n",
       "</table>\n",
       "</div>"
      ],
      "text/plain": [
       "   danceability   energy  key  loudness  mode  speechiness  acousticness  \\\n",
       "0        0.1930  0.11600    9   -25.718     1       0.0608         0.986   \n",
       "1        0.3210  0.00611    4   -38.341     0       0.0362         0.995   \n",
       "2        0.4480  0.00520    4   -36.512     1       0.0564         0.995   \n",
       "3        0.4250  0.03630    1   -21.629     0       0.0686         0.991   \n",
       "4        0.0748  0.04420    0   -19.183     1       0.0426         0.957   \n",
       "\n",
       "   instrumentalness  liveness  valence    tempo            type  \\\n",
       "0           0.91800    0.5050   0.0836  143.301  audio_features   \n",
       "1           0.90800    0.0900   0.0693  104.311  audio_features   \n",
       "2           0.88000    0.0698   0.0398   62.171  audio_features   \n",
       "3           0.00109    0.2500   0.7450   78.991  audio_features   \n",
       "4           0.94000    0.1160   0.0369   79.092  audio_features   \n",
       "\n",
       "                       id                                   uri  \\\n",
       "0  6pV1dGidc6DvzjKhbMqgDa  spotify:track:6pV1dGidc6DvzjKhbMqgDa   \n",
       "1  1YcABWwgkfrOSw8VMgDWZU  spotify:track:1YcABWwgkfrOSw8VMgDWZU   \n",
       "2  1juisCcrVdwoLbDWyVvNrX  spotify:track:1juisCcrVdwoLbDWyVvNrX   \n",
       "3  1AKdBq4wtJKU9DhQpekvtc  spotify:track:1AKdBq4wtJKU9DhQpekvtc   \n",
       "4  5X5x6oRSCHtHEz28ncMVd5  spotify:track:5X5x6oRSCHtHEz28ncMVd5   \n",
       "\n",
       "                                          track_href  \\\n",
       "0  https://api.spotify.com/v1/tracks/6pV1dGidc6Dv...   \n",
       "1  https://api.spotify.com/v1/tracks/1YcABWwgkfrO...   \n",
       "2  https://api.spotify.com/v1/tracks/1juisCcrVdwo...   \n",
       "3  https://api.spotify.com/v1/tracks/1AKdBq4wtJKU...   \n",
       "4  https://api.spotify.com/v1/tracks/5X5x6oRSCHtH...   \n",
       "\n",
       "                                        analysis_url  duration_ms  \\\n",
       "0  https://api.spotify.com/v1/audio-analysis/6pV1...       242467   \n",
       "1  https://api.spotify.com/v1/audio-analysis/1YcA...       205493   \n",
       "2  https://api.spotify.com/v1/audio-analysis/1jui...       369027   \n",
       "3  https://api.spotify.com/v1/audio-analysis/1AKd...       143777   \n",
       "4  https://api.spotify.com/v1/audio-analysis/5X5x...       348907   \n",
       "\n",
       "   time_signature    genre  \n",
       "0               3  classic  \n",
       "1               4  classic  \n",
       "2               4  classic  \n",
       "3               4  classic  \n",
       "4               4  classic  "
      ]
     },
     "execution_count": 3,
     "metadata": {},
     "output_type": "execute_result"
    }
   ],
   "source": [
    "raw_data.head()"
   ]
  },
  {
   "cell_type": "code",
   "execution_count": 6,
   "metadata": {},
   "outputs": [
    {
     "data": {
      "text/plain": [
       "Index(['danceability', 'energy', 'key', 'loudness', 'mode', 'speechiness',\n",
       "       'acousticness', 'instrumentalness', 'liveness', 'valence', 'tempo',\n",
       "       'type', 'id', 'uri', 'track_href', 'analysis_url', 'duration_ms',\n",
       "       'time_signature', 'genre'],\n",
       "      dtype='object')"
      ]
     },
     "execution_count": 6,
     "metadata": {},
     "output_type": "execute_result"
    }
   ],
   "source": [
    "raw_data.columns"
   ]
  },
  {
   "cell_type": "code",
   "execution_count": 4,
   "metadata": {},
   "outputs": [],
   "source": [
    "# now drop some features which have no importance for the ML task\n",
    "raw_data.drop([\"uri\", \"id\", \"track_href\", \"analysis_url\", \"type\"], axis=1, inplace=True)"
   ]
  },
  {
   "cell_type": "code",
   "execution_count": 9,
   "metadata": {},
   "outputs": [
    {
     "data": {
      "text/plain": [
       "Index(['danceability', 'energy', 'key', 'loudness', 'mode', 'speechiness',\n",
       "       'acousticness', 'instrumentalness', 'liveness', 'valence', 'tempo',\n",
       "       'duration_ms', 'time_signature', 'genre'],\n",
       "      dtype='object')"
      ]
     },
     "execution_count": 9,
     "metadata": {},
     "output_type": "execute_result"
    }
   ],
   "source": [
    "raw_data.columns"
   ]
  },
  {
   "cell_type": "code",
   "execution_count": 10,
   "metadata": {},
   "outputs": [
    {
     "data": {
      "text/plain": [
       "(1515, 14)"
      ]
     },
     "execution_count": 10,
     "metadata": {},
     "output_type": "execute_result"
    }
   ],
   "source": [
    "raw_data.shape"
   ]
  },
  {
   "cell_type": "code",
   "execution_count": 11,
   "metadata": {},
   "outputs": [
    {
     "name": "stdout",
     "output_type": "stream",
     "text": [
      "<class 'pandas.core.frame.DataFrame'>\n",
      "RangeIndex: 1515 entries, 0 to 1514\n",
      "Data columns (total 14 columns):\n",
      " #   Column            Non-Null Count  Dtype  \n",
      "---  ------            --------------  -----  \n",
      " 0   danceability      1515 non-null   float64\n",
      " 1   energy            1515 non-null   float64\n",
      " 2   key               1515 non-null   int64  \n",
      " 3   loudness          1515 non-null   float64\n",
      " 4   mode              1515 non-null   int64  \n",
      " 5   speechiness       1515 non-null   float64\n",
      " 6   acousticness      1515 non-null   float64\n",
      " 7   instrumentalness  1515 non-null   float64\n",
      " 8   liveness          1515 non-null   float64\n",
      " 9   valence           1515 non-null   float64\n",
      " 10  tempo             1515 non-null   float64\n",
      " 11  duration_ms       1515 non-null   int64  \n",
      " 12  time_signature    1515 non-null   int64  \n",
      " 13  genre             1515 non-null   object \n",
      "dtypes: float64(9), int64(4), object(1)\n",
      "memory usage: 165.8+ KB\n"
     ]
    }
   ],
   "source": [
    "raw_data.info()"
   ]
  },
  {
   "cell_type": "code",
   "execution_count": 5,
   "metadata": {},
   "outputs": [
    {
     "name": "stdout",
     "output_type": "stream",
     "text": [
      "Removed samples: 0\n"
     ]
    }
   ],
   "source": [
    "# remove samples with key == -1\n",
    "befor = len(raw_data)\n",
    "raw_data = raw_data[raw_data.key != -1]\n",
    "print(f\"Removed samples: {befor - len(raw_data)}\")"
   ]
  },
  {
   "cell_type": "code",
   "execution_count": 6,
   "metadata": {},
   "outputs": [
    {
     "data": {
      "text/plain": [
       "1515"
      ]
     },
     "execution_count": 6,
     "metadata": {},
     "output_type": "execute_result"
    }
   ],
   "source": [
    "len(raw_data)"
   ]
  },
  {
   "cell_type": "code",
   "execution_count": 7,
   "metadata": {},
   "outputs": [
    {
     "name": "stdout",
     "output_type": "stream",
     "text": [
      "Removed samples: 19\n"
     ]
    }
   ],
   "source": [
    "# remove samples where time_signature is out of bounds [3:7]\n",
    "befor = len(raw_data)\n",
    "raw_data = raw_data[(raw_data.time_signature >= 3) & (raw_data.time_signature <= 7)]\n",
    "print(f\"Removed samples: {befor - len(raw_data)}\")"
   ]
  },
  {
   "cell_type": "code",
   "execution_count": 8,
   "metadata": {},
   "outputs": [
    {
     "data": {
      "text/html": [
       "<div>\n",
       "<style scoped>\n",
       "    .dataframe tbody tr th:only-of-type {\n",
       "        vertical-align: middle;\n",
       "    }\n",
       "\n",
       "    .dataframe tbody tr th {\n",
       "        vertical-align: top;\n",
       "    }\n",
       "\n",
       "    .dataframe thead th {\n",
       "        text-align: right;\n",
       "    }\n",
       "</style>\n",
       "<table border=\"1\" class=\"dataframe\">\n",
       "  <thead>\n",
       "    <tr style=\"text-align: right;\">\n",
       "      <th></th>\n",
       "      <th>danceability</th>\n",
       "      <th>energy</th>\n",
       "      <th>key</th>\n",
       "      <th>loudness</th>\n",
       "      <th>mode</th>\n",
       "      <th>speechiness</th>\n",
       "      <th>acousticness</th>\n",
       "      <th>instrumentalness</th>\n",
       "      <th>liveness</th>\n",
       "      <th>valence</th>\n",
       "      <th>tempo</th>\n",
       "      <th>duration_ms</th>\n",
       "      <th>time_signature</th>\n",
       "    </tr>\n",
       "  </thead>\n",
       "  <tbody>\n",
       "    <tr>\n",
       "      <th>count</th>\n",
       "      <td>1496.000000</td>\n",
       "      <td>1496.000000</td>\n",
       "      <td>1496.000000</td>\n",
       "      <td>1496.000000</td>\n",
       "      <td>1496.000000</td>\n",
       "      <td>1496.000000</td>\n",
       "      <td>1496.000000</td>\n",
       "      <td>1496.000000</td>\n",
       "      <td>1496.000000</td>\n",
       "      <td>1496.000000</td>\n",
       "      <td>1496.000000</td>\n",
       "      <td>1.496000e+03</td>\n",
       "      <td>1496.000000</td>\n",
       "    </tr>\n",
       "    <tr>\n",
       "      <th>mean</th>\n",
       "      <td>0.518864</td>\n",
       "      <td>0.576181</td>\n",
       "      <td>5.324866</td>\n",
       "      <td>-10.743261</td>\n",
       "      <td>0.554813</td>\n",
       "      <td>0.101637</td>\n",
       "      <td>0.359781</td>\n",
       "      <td>0.244451</td>\n",
       "      <td>0.181888</td>\n",
       "      <td>0.405590</td>\n",
       "      <td>118.611152</td>\n",
       "      <td>2.726669e+05</td>\n",
       "      <td>3.922460</td>\n",
       "    </tr>\n",
       "    <tr>\n",
       "      <th>std</th>\n",
       "      <td>0.209155</td>\n",
       "      <td>0.328465</td>\n",
       "      <td>3.553143</td>\n",
       "      <td>8.596414</td>\n",
       "      <td>0.497153</td>\n",
       "      <td>0.103556</td>\n",
       "      <td>0.403647</td>\n",
       "      <td>0.369033</td>\n",
       "      <td>0.143416</td>\n",
       "      <td>0.259752</td>\n",
       "      <td>31.233030</td>\n",
       "      <td>1.245252e+05</td>\n",
       "      <td>0.338208</td>\n",
       "    </tr>\n",
       "    <tr>\n",
       "      <th>min</th>\n",
       "      <td>0.061800</td>\n",
       "      <td>0.002090</td>\n",
       "      <td>0.000000</td>\n",
       "      <td>-44.526000</td>\n",
       "      <td>0.000000</td>\n",
       "      <td>0.025000</td>\n",
       "      <td>0.000002</td>\n",
       "      <td>0.000000</td>\n",
       "      <td>0.023400</td>\n",
       "      <td>0.027100</td>\n",
       "      <td>47.362000</td>\n",
       "      <td>8.426700e+04</td>\n",
       "      <td>3.000000</td>\n",
       "    </tr>\n",
       "    <tr>\n",
       "      <th>25%</th>\n",
       "      <td>0.375000</td>\n",
       "      <td>0.271750</td>\n",
       "      <td>2.000000</td>\n",
       "      <td>-14.000250</td>\n",
       "      <td>0.000000</td>\n",
       "      <td>0.040475</td>\n",
       "      <td>0.010200</td>\n",
       "      <td>0.000000</td>\n",
       "      <td>0.092575</td>\n",
       "      <td>0.167000</td>\n",
       "      <td>93.895250</td>\n",
       "      <td>1.959170e+05</td>\n",
       "      <td>4.000000</td>\n",
       "    </tr>\n",
       "    <tr>\n",
       "      <th>50%</th>\n",
       "      <td>0.516500</td>\n",
       "      <td>0.678000</td>\n",
       "      <td>5.000000</td>\n",
       "      <td>-7.225500</td>\n",
       "      <td>1.000000</td>\n",
       "      <td>0.052400</td>\n",
       "      <td>0.108500</td>\n",
       "      <td>0.000865</td>\n",
       "      <td>0.122000</td>\n",
       "      <td>0.387000</td>\n",
       "      <td>116.799500</td>\n",
       "      <td>2.378620e+05</td>\n",
       "      <td>4.000000</td>\n",
       "    </tr>\n",
       "    <tr>\n",
       "      <th>75%</th>\n",
       "      <td>0.667000</td>\n",
       "      <td>0.864000</td>\n",
       "      <td>8.000000</td>\n",
       "      <td>-4.709500</td>\n",
       "      <td>1.000000</td>\n",
       "      <td>0.112000</td>\n",
       "      <td>0.838250</td>\n",
       "      <td>0.618250</td>\n",
       "      <td>0.234250</td>\n",
       "      <td>0.616000</td>\n",
       "      <td>145.010500</td>\n",
       "      <td>3.040568e+05</td>\n",
       "      <td>4.000000</td>\n",
       "    </tr>\n",
       "    <tr>\n",
       "      <th>max</th>\n",
       "      <td>0.964000</td>\n",
       "      <td>0.998000</td>\n",
       "      <td>11.000000</td>\n",
       "      <td>-0.100000</td>\n",
       "      <td>1.000000</td>\n",
       "      <td>0.944000</td>\n",
       "      <td>0.996000</td>\n",
       "      <td>0.981000</td>\n",
       "      <td>0.972000</td>\n",
       "      <td>0.958000</td>\n",
       "      <td>206.247000</td>\n",
       "      <td>1.252322e+06</td>\n",
       "      <td>5.000000</td>\n",
       "    </tr>\n",
       "  </tbody>\n",
       "</table>\n",
       "</div>"
      ],
      "text/plain": [
       "       danceability       energy          key     loudness         mode  \\\n",
       "count   1496.000000  1496.000000  1496.000000  1496.000000  1496.000000   \n",
       "mean       0.518864     0.576181     5.324866   -10.743261     0.554813   \n",
       "std        0.209155     0.328465     3.553143     8.596414     0.497153   \n",
       "min        0.061800     0.002090     0.000000   -44.526000     0.000000   \n",
       "25%        0.375000     0.271750     2.000000   -14.000250     0.000000   \n",
       "50%        0.516500     0.678000     5.000000    -7.225500     1.000000   \n",
       "75%        0.667000     0.864000     8.000000    -4.709500     1.000000   \n",
       "max        0.964000     0.998000    11.000000    -0.100000     1.000000   \n",
       "\n",
       "       speechiness  acousticness  instrumentalness     liveness      valence  \\\n",
       "count  1496.000000   1496.000000       1496.000000  1496.000000  1496.000000   \n",
       "mean      0.101637      0.359781          0.244451     0.181888     0.405590   \n",
       "std       0.103556      0.403647          0.369033     0.143416     0.259752   \n",
       "min       0.025000      0.000002          0.000000     0.023400     0.027100   \n",
       "25%       0.040475      0.010200          0.000000     0.092575     0.167000   \n",
       "50%       0.052400      0.108500          0.000865     0.122000     0.387000   \n",
       "75%       0.112000      0.838250          0.618250     0.234250     0.616000   \n",
       "max       0.944000      0.996000          0.981000     0.972000     0.958000   \n",
       "\n",
       "             tempo   duration_ms  time_signature  \n",
       "count  1496.000000  1.496000e+03     1496.000000  \n",
       "mean    118.611152  2.726669e+05        3.922460  \n",
       "std      31.233030  1.245252e+05        0.338208  \n",
       "min      47.362000  8.426700e+04        3.000000  \n",
       "25%      93.895250  1.959170e+05        4.000000  \n",
       "50%     116.799500  2.378620e+05        4.000000  \n",
       "75%     145.010500  3.040568e+05        4.000000  \n",
       "max     206.247000  1.252322e+06        5.000000  "
      ]
     },
     "execution_count": 8,
     "metadata": {},
     "output_type": "execute_result"
    }
   ],
   "source": [
    "raw_data.describe()"
   ]
  },
  {
   "cell_type": "code",
   "execution_count": 9,
   "metadata": {},
   "outputs": [],
   "source": [
    "categorical_features = {'key', 'mode', 'time_signature'}\n",
    "numeric_features = set(raw_data.columns) - categorical_features - {\"genre\"}\n",
    "\n",
    "numeric_features = list(numeric_features)\n",
    "categorical_features = list(categorical_features)"
   ]
  },
  {
   "cell_type": "code",
   "execution_count": 10,
   "metadata": {},
   "outputs": [],
   "source": [
    "x_train, x_test, y_train, y_test = train_test_split(raw_data.iloc[:,:13], raw_data.genre, test_size=0.33, stratify=raw_data.genre)\n",
    "data = {\n",
    "    \"x_train\": x_train,\n",
    "    \"x_test\": x_test,\n",
    "    \"y_train\": y_train,\n",
    "    \"y_test\": y_test,\n",
    "    \"features\": numeric_features + categorical_features,\n",
    "    \"numeric_features\": numeric_features,\n",
    "    \"categorical_features\": categorical_features,\n",
    "    \"target\": \"genre\"\n",
    "}"
   ]
  },
  {
   "cell_type": "code",
   "execution_count": 11,
   "metadata": {},
   "outputs": [
    {
     "data": {
      "text/html": [
       "<div>\n",
       "<style scoped>\n",
       "    .dataframe tbody tr th:only-of-type {\n",
       "        vertical-align: middle;\n",
       "    }\n",
       "\n",
       "    .dataframe tbody tr th {\n",
       "        vertical-align: top;\n",
       "    }\n",
       "\n",
       "    .dataframe thead th {\n",
       "        text-align: right;\n",
       "    }\n",
       "</style>\n",
       "<table border=\"1\" class=\"dataframe\">\n",
       "  <thead>\n",
       "    <tr style=\"text-align: right;\">\n",
       "      <th></th>\n",
       "      <th>danceability</th>\n",
       "      <th>energy</th>\n",
       "      <th>key</th>\n",
       "      <th>loudness</th>\n",
       "      <th>mode</th>\n",
       "      <th>speechiness</th>\n",
       "      <th>acousticness</th>\n",
       "      <th>instrumentalness</th>\n",
       "      <th>liveness</th>\n",
       "      <th>valence</th>\n",
       "      <th>tempo</th>\n",
       "      <th>duration_ms</th>\n",
       "      <th>time_signature</th>\n",
       "    </tr>\n",
       "  </thead>\n",
       "  <tbody>\n",
       "    <tr>\n",
       "      <th>count</th>\n",
       "      <td>1.002000e+03</td>\n",
       "      <td>1.002000e+03</td>\n",
       "      <td>1002.000000</td>\n",
       "      <td>1.002000e+03</td>\n",
       "      <td>1002.000000</td>\n",
       "      <td>1.002000e+03</td>\n",
       "      <td>1.002000e+03</td>\n",
       "      <td>1.002000e+03</td>\n",
       "      <td>1.002000e+03</td>\n",
       "      <td>1.002000e+03</td>\n",
       "      <td>1.002000e+03</td>\n",
       "      <td>1.002000e+03</td>\n",
       "      <td>1002.000000</td>\n",
       "    </tr>\n",
       "    <tr>\n",
       "      <th>mean</th>\n",
       "      <td>-6.913964e-17</td>\n",
       "      <td>-3.917913e-16</td>\n",
       "      <td>5.376248</td>\n",
       "      <td>1.524618e-16</td>\n",
       "      <td>0.555888</td>\n",
       "      <td>-1.205512e-16</td>\n",
       "      <td>4.254747e-17</td>\n",
       "      <td>8.509494e-17</td>\n",
       "      <td>-4.609309e-17</td>\n",
       "      <td>5.318434e-17</td>\n",
       "      <td>2.659217e-16</td>\n",
       "      <td>3.013779e-17</td>\n",
       "      <td>3.920160</td>\n",
       "    </tr>\n",
       "    <tr>\n",
       "      <th>std</th>\n",
       "      <td>1.000499e+00</td>\n",
       "      <td>1.000499e+00</td>\n",
       "      <td>3.550007</td>\n",
       "      <td>1.000499e+00</td>\n",
       "      <td>0.497115</td>\n",
       "      <td>1.000499e+00</td>\n",
       "      <td>1.000499e+00</td>\n",
       "      <td>1.000499e+00</td>\n",
       "      <td>1.000499e+00</td>\n",
       "      <td>1.000499e+00</td>\n",
       "      <td>1.000499e+00</td>\n",
       "      <td>1.000499e+00</td>\n",
       "      <td>0.336897</td>\n",
       "    </tr>\n",
       "    <tr>\n",
       "      <th>min</th>\n",
       "      <td>-2.227803e+00</td>\n",
       "      <td>-1.756108e+00</td>\n",
       "      <td>0.000000</td>\n",
       "      <td>-3.922423e+00</td>\n",
       "      <td>0.000000</td>\n",
       "      <td>-7.458863e-01</td>\n",
       "      <td>-8.860667e-01</td>\n",
       "      <td>-6.603951e-01</td>\n",
       "      <td>-1.127200e+00</td>\n",
       "      <td>-1.459677e+00</td>\n",
       "      <td>-1.910361e+00</td>\n",
       "      <td>-1.471772e+00</td>\n",
       "      <td>3.000000</td>\n",
       "    </tr>\n",
       "    <tr>\n",
       "      <th>25%</th>\n",
       "      <td>-6.914248e-01</td>\n",
       "      <td>-9.003287e-01</td>\n",
       "      <td>2.000000</td>\n",
       "      <td>-3.395487e-01</td>\n",
       "      <td>0.000000</td>\n",
       "      <td>-5.943966e-01</td>\n",
       "      <td>-8.606094e-01</td>\n",
       "      <td>-6.603951e-01</td>\n",
       "      <td>-6.161391e-01</td>\n",
       "      <td>-9.197668e-01</td>\n",
       "      <td>-8.018259e-01</td>\n",
       "      <td>-6.045309e-01</td>\n",
       "      <td>4.000000</td>\n",
       "    </tr>\n",
       "    <tr>\n",
       "      <th>50%</th>\n",
       "      <td>2.517421e-03</td>\n",
       "      <td>3.113738e-01</td>\n",
       "      <td>5.000000</td>\n",
       "      <td>3.986900e-01</td>\n",
       "      <td>1.000000</td>\n",
       "      <td>-4.736008e-01</td>\n",
       "      <td>-6.339268e-01</td>\n",
       "      <td>-6.576298e-01</td>\n",
       "      <td>-4.038084e-01</td>\n",
       "      <td>-7.651955e-02</td>\n",
       "      <td>-4.482625e-03</td>\n",
       "      <td>-2.725845e-01</td>\n",
       "      <td>4.000000</td>\n",
       "    </tr>\n",
       "    <tr>\n",
       "      <th>75%</th>\n",
       "      <td>7.049519e-01</td>\n",
       "      <td>8.739226e-01</td>\n",
       "      <td>8.000000</td>\n",
       "      <td>6.862650e-01</td>\n",
       "      <td>1.000000</td>\n",
       "      <td>8.582205e-02</td>\n",
       "      <td>1.190411e+00</td>\n",
       "      <td>9.886607e-01</td>\n",
       "      <td>3.778976e-01</td>\n",
       "      <td>8.226869e-01</td>\n",
       "      <td>8.343443e-01</td>\n",
       "      <td>2.336602e-01</td>\n",
       "      <td>4.000000</td>\n",
       "    </tr>\n",
       "    <tr>\n",
       "      <th>max</th>\n",
       "      <td>2.064933e+00</td>\n",
       "      <td>1.296984e+00</td>\n",
       "      <td>11.000000</td>\n",
       "      <td>1.228617e+00</td>\n",
       "      <td>1.000000</td>\n",
       "      <td>4.382982e+00</td>\n",
       "      <td>1.576043e+00</td>\n",
       "      <td>1.999241e+00</td>\n",
       "      <td>5.481347e+00</td>\n",
       "      <td>2.132904e+00</td>\n",
       "      <td>2.797816e+00</td>\n",
       "      <td>7.611998e+00</td>\n",
       "      <td>5.000000</td>\n",
       "    </tr>\n",
       "  </tbody>\n",
       "</table>\n",
       "</div>"
      ],
      "text/plain": [
       "       danceability        energy          key      loudness         mode  \\\n",
       "count  1.002000e+03  1.002000e+03  1002.000000  1.002000e+03  1002.000000   \n",
       "mean  -6.913964e-17 -3.917913e-16     5.376248  1.524618e-16     0.555888   \n",
       "std    1.000499e+00  1.000499e+00     3.550007  1.000499e+00     0.497115   \n",
       "min   -2.227803e+00 -1.756108e+00     0.000000 -3.922423e+00     0.000000   \n",
       "25%   -6.914248e-01 -9.003287e-01     2.000000 -3.395487e-01     0.000000   \n",
       "50%    2.517421e-03  3.113738e-01     5.000000  3.986900e-01     1.000000   \n",
       "75%    7.049519e-01  8.739226e-01     8.000000  6.862650e-01     1.000000   \n",
       "max    2.064933e+00  1.296984e+00    11.000000  1.228617e+00     1.000000   \n",
       "\n",
       "        speechiness  acousticness  instrumentalness      liveness  \\\n",
       "count  1.002000e+03  1.002000e+03      1.002000e+03  1.002000e+03   \n",
       "mean  -1.205512e-16  4.254747e-17      8.509494e-17 -4.609309e-17   \n",
       "std    1.000499e+00  1.000499e+00      1.000499e+00  1.000499e+00   \n",
       "min   -7.458863e-01 -8.860667e-01     -6.603951e-01 -1.127200e+00   \n",
       "25%   -5.943966e-01 -8.606094e-01     -6.603951e-01 -6.161391e-01   \n",
       "50%   -4.736008e-01 -6.339268e-01     -6.576298e-01 -4.038084e-01   \n",
       "75%    8.582205e-02  1.190411e+00      9.886607e-01  3.778976e-01   \n",
       "max    4.382982e+00  1.576043e+00      1.999241e+00  5.481347e+00   \n",
       "\n",
       "            valence         tempo   duration_ms  time_signature  \n",
       "count  1.002000e+03  1.002000e+03  1.002000e+03     1002.000000  \n",
       "mean   5.318434e-17  2.659217e-16  3.013779e-17        3.920160  \n",
       "std    1.000499e+00  1.000499e+00  1.000499e+00        0.336897  \n",
       "min   -1.459677e+00 -1.910361e+00 -1.471772e+00        3.000000  \n",
       "25%   -9.197668e-01 -8.018259e-01 -6.045309e-01        4.000000  \n",
       "50%   -7.651955e-02 -4.482625e-03 -2.725845e-01        4.000000  \n",
       "75%    8.226869e-01  8.343443e-01  2.336602e-01        4.000000  \n",
       "max    2.132904e+00  2.797816e+00  7.611998e+00        5.000000  "
      ]
     },
     "execution_count": 11,
     "metadata": {},
     "output_type": "execute_result"
    }
   ],
   "source": [
    "scaler = StandardScaler()\n",
    "data[\"x_train\"][data[\"numeric_features\"]] = scaler.fit_transform(data[\"x_train\"][data[\"numeric_features\"]])\n",
    "data[\"x_train\"].describe()"
   ]
  },
  {
   "cell_type": "markdown",
   "metadata": {},
   "source": [
    "### Outlier removal"
   ]
  },
  {
   "cell_type": "code",
   "execution_count": 12,
   "metadata": {},
   "outputs": [
    {
     "name": "stdout",
     "output_type": "stream",
     "text": [
      "Removed samples: 125\n"
     ]
    },
    {
     "name": "stderr",
     "output_type": "stream",
     "text": [
      "/Library/Frameworks/Python.framework/Versions/3.7/lib/python3.7/site-packages/ipykernel_launcher.py:9: FutureWarning: In a future version of pandas all arguments of DataFrame.drop except for the argument 'labels' will be keyword-only\n",
      "  if __name__ == '__main__':\n",
      "/Library/Frameworks/Python.framework/Versions/3.7/lib/python3.7/site-packages/ipykernel_launcher.py:14: SettingWithCopyWarning: \n",
      "A value is trying to be set on a copy of a slice from a DataFrame.\n",
      "Try using .loc[row_indexer,col_indexer] = value instead\n",
      "\n",
      "See the caveats in the documentation: https://pandas.pydata.org/pandas-docs/stable/user_guide/indexing.html#returning-a-view-versus-a-copy\n",
      "  \n"
     ]
    }
   ],
   "source": [
    "#outlier detection using zscore\n",
    "threshold = 3\n",
    "filtered_data = pd.DataFrame([])\n",
    "removed_cnt = 0\n",
    "train_combined = data[\"x_train\"].copy()\n",
    "train_combined[\"genre\"] = data[\"y_train\"]\n",
    "\n",
    "for group_name, group_data in train_combined.groupby(\"genre\"):\n",
    "    group_data = group_data.drop(\"genre\", 1)\n",
    "\n",
    "    z_score = group_data.select_dtypes(include='number').apply(stats.zscore)\n",
    "    filter = (abs(z_score) < threshold).all(axis=1)\n",
    "    group_filtered = group_data[filter]\n",
    "    group_filtered['genre'] = group_name\n",
    "\n",
    "    removed_cnt += (group_data.shape[0] - group_filtered.shape[0])\n",
    "    filtered_data = pd.concat([filtered_data, group_filtered], ignore_index=False)\n",
    "\n",
    "print(f\"Removed samples: {removed_cnt}\")\n",
    "\n",
    "data[\"y_train\"] = filtered_data[\"genre\"]\n",
    "data[\"x_train\"] = filtered_data.drop(\"genre\", axis=1)"
   ]
  },
  {
   "cell_type": "markdown",
   "metadata": {},
   "source": [
    "### Statistics"
   ]
  },
  {
   "cell_type": "code",
   "execution_count": 21,
   "metadata": {},
   "outputs": [
    {
     "data": {
      "text/html": [
       "<div>\n",
       "<style scoped>\n",
       "    .dataframe tbody tr th:only-of-type {\n",
       "        vertical-align: middle;\n",
       "    }\n",
       "\n",
       "    .dataframe tbody tr th {\n",
       "        vertical-align: top;\n",
       "    }\n",
       "\n",
       "    .dataframe thead th {\n",
       "        text-align: right;\n",
       "    }\n",
       "</style>\n",
       "<table border=\"1\" class=\"dataframe\">\n",
       "  <thead>\n",
       "    <tr style=\"text-align: right;\">\n",
       "      <th></th>\n",
       "      <th>count</th>\n",
       "      <th>mean</th>\n",
       "      <th>std</th>\n",
       "      <th>min</th>\n",
       "      <th>25%</th>\n",
       "      <th>50%</th>\n",
       "      <th>75%</th>\n",
       "      <th>max</th>\n",
       "    </tr>\n",
       "    <tr>\n",
       "      <th>genre</th>\n",
       "      <th></th>\n",
       "      <th></th>\n",
       "      <th></th>\n",
       "      <th></th>\n",
       "      <th></th>\n",
       "      <th></th>\n",
       "      <th></th>\n",
       "      <th></th>\n",
       "    </tr>\n",
       "  </thead>\n",
       "  <tbody>\n",
       "    <tr>\n",
       "      <th>classic</th>\n",
       "      <td>162.0</td>\n",
       "      <td>0.413820</td>\n",
       "      <td>1.268383</td>\n",
       "      <td>-1.499311</td>\n",
       "      <td>-0.572576</td>\n",
       "      <td>0.097970</td>\n",
       "      <td>1.105898</td>\n",
       "      <td>4.128222</td>\n",
       "    </tr>\n",
       "    <tr>\n",
       "      <th>edm</th>\n",
       "      <td>163.0</td>\n",
       "      <td>-0.381786</td>\n",
       "      <td>0.600404</td>\n",
       "      <td>-1.248098</td>\n",
       "      <td>-0.789008</td>\n",
       "      <td>-0.577904</td>\n",
       "      <td>-0.210668</td>\n",
       "      <td>1.424702</td>\n",
       "    </tr>\n",
       "    <tr>\n",
       "      <th>hiphop</th>\n",
       "      <td>196.0</td>\n",
       "      <td>-0.221766</td>\n",
       "      <td>0.328145</td>\n",
       "      <td>-1.182542</td>\n",
       "      <td>-0.428285</td>\n",
       "      <td>-0.207843</td>\n",
       "      <td>-0.002187</td>\n",
       "      <td>0.634025</td>\n",
       "    </tr>\n",
       "    <tr>\n",
       "      <th>jazz</th>\n",
       "      <td>180.0</td>\n",
       "      <td>0.406792</td>\n",
       "      <td>1.060293</td>\n",
       "      <td>-1.245786</td>\n",
       "      <td>-0.543497</td>\n",
       "      <td>0.290348</td>\n",
       "      <td>1.113352</td>\n",
       "      <td>3.631776</td>\n",
       "    </tr>\n",
       "    <tr>\n",
       "      <th>rock</th>\n",
       "      <td>171.0</td>\n",
       "      <td>-0.403057</td>\n",
       "      <td>0.356118</td>\n",
       "      <td>-1.306844</td>\n",
       "      <td>-0.648876</td>\n",
       "      <td>-0.471117</td>\n",
       "      <td>-0.160180</td>\n",
       "      <td>0.498645</td>\n",
       "    </tr>\n",
       "  </tbody>\n",
       "</table>\n",
       "</div>"
      ],
      "text/plain": [
       "         count      mean       std       min       25%       50%       75%  \\\n",
       "genre                                                                        \n",
       "classic  162.0  0.413820  1.268383 -1.499311 -0.572576  0.097970  1.105898   \n",
       "edm      163.0 -0.381786  0.600404 -1.248098 -0.789008 -0.577904 -0.210668   \n",
       "hiphop   196.0 -0.221766  0.328145 -1.182542 -0.428285 -0.207843 -0.002187   \n",
       "jazz     180.0  0.406792  1.060293 -1.245786 -0.543497  0.290348  1.113352   \n",
       "rock     171.0 -0.403057  0.356118 -1.306844 -0.648876 -0.471117 -0.160180   \n",
       "\n",
       "              max  \n",
       "genre              \n",
       "classic  4.128222  \n",
       "edm      1.424702  \n",
       "hiphop   0.634025  \n",
       "jazz     3.631776  \n",
       "rock     0.498645  "
      ]
     },
     "execution_count": 21,
     "metadata": {},
     "output_type": "execute_result"
    }
   ],
   "source": [
    "# if you want to compare statistic informations from specific features you can use: data.groupby('genre').describe()[\"feature1\", \"feature2\", ...]\n",
    "data[\"x_train\"].groupby(data[\"y_train\"]).describe()[\"duration_s\"]"
   ]
  },
  {
   "cell_type": "code",
   "execution_count": 22,
   "metadata": {},
   "outputs": [
    {
     "data": {
      "text/html": [
       "<div>\n",
       "<style scoped>\n",
       "    .dataframe tbody tr th:only-of-type {\n",
       "        vertical-align: middle;\n",
       "    }\n",
       "\n",
       "    .dataframe tbody tr th {\n",
       "        vertical-align: top;\n",
       "    }\n",
       "\n",
       "    .dataframe thead th {\n",
       "        text-align: right;\n",
       "    }\n",
       "</style>\n",
       "<table border=\"1\" class=\"dataframe\">\n",
       "  <thead>\n",
       "    <tr style=\"text-align: right;\">\n",
       "      <th></th>\n",
       "      <th>danceability</th>\n",
       "      <th>energy</th>\n",
       "      <th>key</th>\n",
       "      <th>loudness</th>\n",
       "      <th>mode</th>\n",
       "      <th>speechiness</th>\n",
       "      <th>acousticness</th>\n",
       "      <th>instrumentalness</th>\n",
       "      <th>liveness</th>\n",
       "      <th>valence</th>\n",
       "      <th>tempo</th>\n",
       "      <th>duration_s</th>\n",
       "      <th>time_signature</th>\n",
       "    </tr>\n",
       "  </thead>\n",
       "  <tbody>\n",
       "    <tr>\n",
       "      <th>count</th>\n",
       "      <td>872.000000</td>\n",
       "      <td>872.000000</td>\n",
       "      <td>872.000000</td>\n",
       "      <td>872.000000</td>\n",
       "      <td>872.000000</td>\n",
       "      <td>872.000000</td>\n",
       "      <td>872.000000</td>\n",
       "      <td>872.000000</td>\n",
       "      <td>872.000000</td>\n",
       "      <td>872.000000</td>\n",
       "      <td>872.000000</td>\n",
       "      <td>872.000000</td>\n",
       "      <td>872.000000</td>\n",
       "    </tr>\n",
       "    <tr>\n",
       "      <th>mean</th>\n",
       "      <td>0.027919</td>\n",
       "      <td>-0.012706</td>\n",
       "      <td>5.309633</td>\n",
       "      <td>-0.005374</td>\n",
       "      <td>0.555046</td>\n",
       "      <td>-0.039566</td>\n",
       "      <td>0.014983</td>\n",
       "      <td>-0.007340</td>\n",
       "      <td>-0.108087</td>\n",
       "      <td>0.042892</td>\n",
       "      <td>-0.014822</td>\n",
       "      <td>-0.039402</td>\n",
       "      <td>3.940367</td>\n",
       "    </tr>\n",
       "    <tr>\n",
       "      <th>std</th>\n",
       "      <td>1.002557</td>\n",
       "      <td>1.007757</td>\n",
       "      <td>3.531131</td>\n",
       "      <td>1.011361</td>\n",
       "      <td>0.497246</td>\n",
       "      <td>0.945119</td>\n",
       "      <td>1.011271</td>\n",
       "      <td>1.004040</td>\n",
       "      <td>0.794255</td>\n",
       "      <td>1.002832</td>\n",
       "      <td>0.978012</td>\n",
       "      <td>0.882643</td>\n",
       "      <td>0.308508</td>\n",
       "    </tr>\n",
       "    <tr>\n",
       "      <th>min</th>\n",
       "      <td>-2.173722</td>\n",
       "      <td>-1.740595</td>\n",
       "      <td>0.000000</td>\n",
       "      <td>-3.851202</td>\n",
       "      <td>0.000000</td>\n",
       "      <td>-0.749721</td>\n",
       "      <td>-0.900899</td>\n",
       "      <td>-0.668963</td>\n",
       "      <td>-1.107438</td>\n",
       "      <td>-1.447519</td>\n",
       "      <td>-2.306622</td>\n",
       "      <td>-1.499311</td>\n",
       "      <td>3.000000</td>\n",
       "    </tr>\n",
       "    <tr>\n",
       "      <th>25%</th>\n",
       "      <td>-0.645594</td>\n",
       "      <td>-0.995015</td>\n",
       "      <td>2.000000</td>\n",
       "      <td>-0.450280</td>\n",
       "      <td>0.000000</td>\n",
       "      <td>-0.599817</td>\n",
       "      <td>-0.875976</td>\n",
       "      <td>-0.668963</td>\n",
       "      <td>-0.637017</td>\n",
       "      <td>-0.870688</td>\n",
       "      <td>-0.794459</td>\n",
       "      <td>-0.639322</td>\n",
       "      <td>4.000000</td>\n",
       "    </tr>\n",
       "    <tr>\n",
       "      <th>50%</th>\n",
       "      <td>0.017412</td>\n",
       "      <td>0.308382</td>\n",
       "      <td>5.000000</td>\n",
       "      <td>0.415999</td>\n",
       "      <td>1.000000</td>\n",
       "      <td>-0.492813</td>\n",
       "      <td>-0.615944</td>\n",
       "      <td>-0.667283</td>\n",
       "      <td>-0.420451</td>\n",
       "      <td>-0.028837</td>\n",
       "      <td>-0.073821</td>\n",
       "      <td>-0.279197</td>\n",
       "      <td>4.000000</td>\n",
       "    </tr>\n",
       "    <tr>\n",
       "      <th>75%</th>\n",
       "      <td>0.717318</td>\n",
       "      <td>0.871972</td>\n",
       "      <td>8.000000</td>\n",
       "      <td>0.709766</td>\n",
       "      <td>1.000000</td>\n",
       "      <td>0.045163</td>\n",
       "      <td>1.184253</td>\n",
       "      <td>1.062178</td>\n",
       "      <td>0.181800</td>\n",
       "      <td>0.926155</td>\n",
       "      <td>0.833641</td>\n",
       "      <td>0.249947</td>\n",
       "      <td>4.000000</td>\n",
       "    </tr>\n",
       "    <tr>\n",
       "      <th>max</th>\n",
       "      <td>2.045711</td>\n",
       "      <td>1.285171</td>\n",
       "      <td>11.000000</td>\n",
       "      <td>1.233133</td>\n",
       "      <td>1.000000</td>\n",
       "      <td>4.108338</td>\n",
       "      <td>1.567089</td>\n",
       "      <td>1.988705</td>\n",
       "      <td>3.266586</td>\n",
       "      <td>2.076749</td>\n",
       "      <td>2.440792</td>\n",
       "      <td>4.128222</td>\n",
       "      <td>5.000000</td>\n",
       "    </tr>\n",
       "  </tbody>\n",
       "</table>\n",
       "</div>"
      ],
      "text/plain": [
       "       danceability      energy         key    loudness        mode  \\\n",
       "count    872.000000  872.000000  872.000000  872.000000  872.000000   \n",
       "mean       0.027919   -0.012706    5.309633   -0.005374    0.555046   \n",
       "std        1.002557    1.007757    3.531131    1.011361    0.497246   \n",
       "min       -2.173722   -1.740595    0.000000   -3.851202    0.000000   \n",
       "25%       -0.645594   -0.995015    2.000000   -0.450280    0.000000   \n",
       "50%        0.017412    0.308382    5.000000    0.415999    1.000000   \n",
       "75%        0.717318    0.871972    8.000000    0.709766    1.000000   \n",
       "max        2.045711    1.285171   11.000000    1.233133    1.000000   \n",
       "\n",
       "       speechiness  acousticness  instrumentalness    liveness     valence  \\\n",
       "count   872.000000    872.000000        872.000000  872.000000  872.000000   \n",
       "mean     -0.039566      0.014983         -0.007340   -0.108087    0.042892   \n",
       "std       0.945119      1.011271          1.004040    0.794255    1.002832   \n",
       "min      -0.749721     -0.900899         -0.668963   -1.107438   -1.447519   \n",
       "25%      -0.599817     -0.875976         -0.668963   -0.637017   -0.870688   \n",
       "50%      -0.492813     -0.615944         -0.667283   -0.420451   -0.028837   \n",
       "75%       0.045163      1.184253          1.062178    0.181800    0.926155   \n",
       "max       4.108338      1.567089          1.988705    3.266586    2.076749   \n",
       "\n",
       "            tempo  duration_s  time_signature  \n",
       "count  872.000000  872.000000      872.000000  \n",
       "mean    -0.014822   -0.039402        3.940367  \n",
       "std      0.978012    0.882643        0.308508  \n",
       "min     -2.306622   -1.499311        3.000000  \n",
       "25%     -0.794459   -0.639322        4.000000  \n",
       "50%     -0.073821   -0.279197        4.000000  \n",
       "75%      0.833641    0.249947        4.000000  \n",
       "max      2.440792    4.128222        5.000000  "
      ]
     },
     "execution_count": 22,
     "metadata": {},
     "output_type": "execute_result"
    }
   ],
   "source": [
    "data[\"x_train\"].describe()"
   ]
  },
  {
   "cell_type": "markdown",
   "metadata": {},
   "source": [
    "### Plots"
   ]
  },
  {
   "cell_type": "code",
   "execution_count": 23,
   "metadata": {},
   "outputs": [
    {
     "data": {
      "image/png": "[encoded data removed]",
      "text/plain": [
       "<Figure size 432x288 with 1 Axes>"
      ]
     },
     "metadata": {
      "needs_background": "light"
     },
     "output_type": "display_data"
    }
   ],
   "source": [
    "sorted_list = data[\"y_train\"].value_counts().sort_values()\n",
    "labels = sorted_list.index.tolist()\n",
    "values = sorted_list.tolist()\n",
    "\n",
    "plt.bar(labels, values)\n",
    "plt.title(\"genre\")\n",
    "plt.ylabel(\"number of samples\")\n",
    "plt.show()"
   ]
  },
  {
   "cell_type": "code",
   "execution_count": 13,
   "metadata": {},
   "outputs": [
    {
     "data": {
      "image/png": "[encoded data removed]",
      "text/plain": [
       "<Figure size 1116x756 with 2 Axes>"
      ]
     },
     "metadata": {
      "needs_background": "light"
     },
     "output_type": "display_data"
    }
   ],
   "source": [
    "fig = plt.figure()\n",
    "heatmap = sns.heatmap(data[\"x_train\"].corr(), vmin=-1, vmax=1, annot=True, cmap='BrBG')\n",
    "heatmap.set_title('Correlation Heatmap', fontdict={'fontsize':18}, pad=12)\n",
    "fig.set_size_inches(15.5, 10.5, forward=True)"
   ]
  },
  {
   "cell_type": "code",
   "execution_count": 14,
   "metadata": {},
   "outputs": [],
   "source": [
    "def find_correlated_features(df:pd.DataFrame, threshold:float) -> list:\n",
    "    correlation_matrix = df.corr().abs()\n",
    "    avg_correlation = correlation_matrix.mean(axis = 1)\n",
    "    up = correlation_matrix.where(np.triu(np.ones(correlation_matrix.shape), k=1).astype(np.bool))\n",
    "    drop = list()\n",
    "        \n",
    "    for row in range(len(up)-1):\n",
    "        for col in range (row + 1, len(up)):\n",
    "            if(correlation_matrix.iloc[row, col] >= threshold):\n",
    "                if(avg_correlation.iloc[row] > avg_correlation.iloc[col]): \n",
    "                    drop.append(row)\n",
    "                else: \n",
    "                    drop.append(col)\n",
    "    \n",
    "    drop = list(set(drop)) \n",
    "    dropcols_names = list(df.columns[[item for item in drop]])\n",
    "    \n",
    "    return dropcols_names"
   ]
  },
  {
   "cell_type": "code",
   "execution_count": 17,
   "metadata": {},
   "outputs": [
    {
     "name": "stdout",
     "output_type": "stream",
     "text": [
      "Drop these correlated features: ['loudness']\n"
     ]
    },
    {
     "data": {
      "image/png": "[encoded data removed]",
      "text/plain": [
       "<Figure size 1116x756 with 2 Axes>"
      ]
     },
     "metadata": {
      "needs_background": "light"
     },
     "output_type": "display_data"
    }
   ],
   "source": [
    "correlated_features = find_correlated_features(data[\"x_train\"], .88)\n",
    "print(f'Drop these correlated features: {correlated_features}')\n",
    "\n",
    "data[\"x_train\"].drop(correlated_features, axis=1, inplace=True)\n",
    "[data[\"features\"].remove(f) for f in correlated_features]\n",
    "for feature in correlated_features:\n",
    "    if feature in data[\"categorical_features\"]:\n",
    "        data[\"categorical_features\"].remove(feature)\n",
    "    if feature in data[\"numeric_features\"]:\n",
    "        data[\"numeric_features\"].remove(feature)\n",
    "\n",
    "fig = plt.figure()\n",
    "heatmap = sns.heatmap(data[\"x_train\"].corr(), vmin=-1, vmax=1, annot=True, cmap='BrBG')\n",
    "heatmap.set_title('Correlation Heatmap', fontdict={'fontsize':18}, pad=12)\n",
    "fig.set_size_inches(15.5, 10.5, forward=True)"
   ]
  },
  {
   "cell_type": "code",
   "execution_count": null,
   "metadata": {},
   "outputs": [],
   "source": [
    "train_combined = data[\"x_train\"].copy()\n",
    "train_combined[\"genre\"] = data[\"y_train\"]\n",
    "for feature in data[\"features\"]:\n",
    "    sns.boxplot(x=\"genre\", y=feature, data=train_combined)\n",
    "    plt.show()"
   ]
  },
  {
   "cell_type": "code",
   "execution_count": null,
   "metadata": {},
   "outputs": [],
   "source": [
    "sns.pairplot(data=train_combined, hue=\"genre\")"
   ]
  },
  {
   "cell_type": "code",
   "execution_count": 33,
   "metadata": {},
   "outputs": [
    {
     "data": {
      "image/png": "[encoded data removed]",
      "text/plain": [
       "<Figure size 432x288 with 1 Axes>"
      ]
     },
     "metadata": {
      "needs_background": "light"
     },
     "output_type": "display_data"
    }
   ],
   "source": [
    "pca_variance_threshold = .95\n",
    "pca = PCA(pca_variance_threshold)\n",
    "pca.fit(data[\"x_train\"][data[\"numeric_features\"]])\n",
    "\n",
    "plt.scatter(range(1, len(pca.explained_variance_ratio_)+1), np.cumsum(pca.explained_variance_ratio_))\n",
    "plt.grid()\n",
    "plt.title(f\"PCA Variance - {np.sum(pca.explained_variance_ratio_)}\")\n",
    "#plt.xlabel(\"no of PCA dimensions\") # why does this throw an error...\n",
    "plt.ylabel(\"% variance\")\n",
    "plt.show()"
   ]
  },
  {
   "cell_type": "code",
   "execution_count": 92,
   "metadata": {},
   "outputs": [
    {
     "data": {
      "text/html": [
       "<div>\n",
       "<style scoped>\n",
       "    .dataframe tbody tr th:only-of-type {\n",
       "        vertical-align: middle;\n",
       "    }\n",
       "\n",
       "    .dataframe tbody tr th {\n",
       "        vertical-align: top;\n",
       "    }\n",
       "\n",
       "    .dataframe thead th {\n",
       "        text-align: right;\n",
       "    }\n",
       "</style>\n",
       "<table border=\"1\" class=\"dataframe\">\n",
       "  <thead>\n",
       "    <tr style=\"text-align: right;\">\n",
       "      <th></th>\n",
       "      <th>PC1</th>\n",
       "      <th>PC2</th>\n",
       "      <th>PC3</th>\n",
       "      <th>PC4</th>\n",
       "      <th>PC5</th>\n",
       "      <th>PC6</th>\n",
       "      <th>PC7</th>\n",
       "      <th>time_signature</th>\n",
       "      <th>key</th>\n",
       "      <th>mode</th>\n",
       "    </tr>\n",
       "  </thead>\n",
       "  <tbody>\n",
       "    <tr>\n",
       "      <th>76</th>\n",
       "      <td>2.555225</td>\n",
       "      <td>-1.519268</td>\n",
       "      <td>-0.750609</td>\n",
       "      <td>-0.414433</td>\n",
       "      <td>0.973986</td>\n",
       "      <td>0.237705</td>\n",
       "      <td>1.261290</td>\n",
       "      <td>4</td>\n",
       "      <td>10</td>\n",
       "      <td>1</td>\n",
       "    </tr>\n",
       "    <tr>\n",
       "      <th>95</th>\n",
       "      <td>3.656142</td>\n",
       "      <td>0.963091</td>\n",
       "      <td>0.343447</td>\n",
       "      <td>0.741927</td>\n",
       "      <td>0.234896</td>\n",
       "      <td>-0.003160</td>\n",
       "      <td>-0.054440</td>\n",
       "      <td>4</td>\n",
       "      <td>11</td>\n",
       "      <td>1</td>\n",
       "    </tr>\n",
       "    <tr>\n",
       "      <th>181</th>\n",
       "      <td>3.352827</td>\n",
       "      <td>0.189262</td>\n",
       "      <td>-1.347959</td>\n",
       "      <td>-0.509500</td>\n",
       "      <td>-0.008716</td>\n",
       "      <td>-0.187261</td>\n",
       "      <td>0.243651</td>\n",
       "      <td>3</td>\n",
       "      <td>11</td>\n",
       "      <td>0</td>\n",
       "    </tr>\n",
       "    <tr>\n",
       "      <th>107</th>\n",
       "      <td>2.040822</td>\n",
       "      <td>-0.054201</td>\n",
       "      <td>-0.574076</td>\n",
       "      <td>-1.280100</td>\n",
       "      <td>0.741242</td>\n",
       "      <td>0.471434</td>\n",
       "      <td>1.074648</td>\n",
       "      <td>4</td>\n",
       "      <td>5</td>\n",
       "      <td>1</td>\n",
       "    </tr>\n",
       "    <tr>\n",
       "      <th>61</th>\n",
       "      <td>3.002021</td>\n",
       "      <td>-0.553030</td>\n",
       "      <td>-1.608964</td>\n",
       "      <td>-0.701053</td>\n",
       "      <td>0.316300</td>\n",
       "      <td>0.362794</td>\n",
       "      <td>0.735897</td>\n",
       "      <td>4</td>\n",
       "      <td>7</td>\n",
       "      <td>0</td>\n",
       "    </tr>\n",
       "    <tr>\n",
       "      <th>...</th>\n",
       "      <td>...</td>\n",
       "      <td>...</td>\n",
       "      <td>...</td>\n",
       "      <td>...</td>\n",
       "      <td>...</td>\n",
       "      <td>...</td>\n",
       "      <td>...</td>\n",
       "      <td>...</td>\n",
       "      <td>...</td>\n",
       "      <td>...</td>\n",
       "    </tr>\n",
       "    <tr>\n",
       "      <th>599</th>\n",
       "      <td>-0.764837</td>\n",
       "      <td>-1.441641</td>\n",
       "      <td>-0.240031</td>\n",
       "      <td>0.000010</td>\n",
       "      <td>0.368399</td>\n",
       "      <td>-0.558480</td>\n",
       "      <td>-0.479575</td>\n",
       "      <td>4</td>\n",
       "      <td>3</td>\n",
       "      <td>0</td>\n",
       "    </tr>\n",
       "    <tr>\n",
       "      <th>825</th>\n",
       "      <td>-0.480906</td>\n",
       "      <td>-1.424124</td>\n",
       "      <td>0.819634</td>\n",
       "      <td>0.350137</td>\n",
       "      <td>-0.224955</td>\n",
       "      <td>-0.185211</td>\n",
       "      <td>-0.073917</td>\n",
       "      <td>4</td>\n",
       "      <td>2</td>\n",
       "      <td>1</td>\n",
       "    </tr>\n",
       "    <tr>\n",
       "      <th>881</th>\n",
       "      <td>-1.627348</td>\n",
       "      <td>-1.236003</td>\n",
       "      <td>0.419835</td>\n",
       "      <td>0.761502</td>\n",
       "      <td>-1.397386</td>\n",
       "      <td>1.037641</td>\n",
       "      <td>0.919749</td>\n",
       "      <td>4</td>\n",
       "      <td>8</td>\n",
       "      <td>1</td>\n",
       "    </tr>\n",
       "    <tr>\n",
       "      <th>646</th>\n",
       "      <td>-0.443174</td>\n",
       "      <td>-1.081771</td>\n",
       "      <td>-0.332739</td>\n",
       "      <td>-0.536079</td>\n",
       "      <td>0.055674</td>\n",
       "      <td>-0.276925</td>\n",
       "      <td>-0.382951</td>\n",
       "      <td>4</td>\n",
       "      <td>9</td>\n",
       "      <td>1</td>\n",
       "    </tr>\n",
       "    <tr>\n",
       "      <th>726</th>\n",
       "      <td>-1.681467</td>\n",
       "      <td>-0.122065</td>\n",
       "      <td>-0.276689</td>\n",
       "      <td>0.583219</td>\n",
       "      <td>-1.545920</td>\n",
       "      <td>1.054484</td>\n",
       "      <td>0.042762</td>\n",
       "      <td>4</td>\n",
       "      <td>4</td>\n",
       "      <td>0</td>\n",
       "    </tr>\n",
       "  </tbody>\n",
       "</table>\n",
       "<p>877 rows × 10 columns</p>\n",
       "</div>"
      ],
      "text/plain": [
       "          PC1       PC2       PC3       PC4       PC5       PC6       PC7  \\\n",
       "76   2.555225 -1.519268 -0.750609 -0.414433  0.973986  0.237705  1.261290   \n",
       "95   3.656142  0.963091  0.343447  0.741927  0.234896 -0.003160 -0.054440   \n",
       "181  3.352827  0.189262 -1.347959 -0.509500 -0.008716 -0.187261  0.243651   \n",
       "107  2.040822 -0.054201 -0.574076 -1.280100  0.741242  0.471434  1.074648   \n",
       "61   3.002021 -0.553030 -1.608964 -0.701053  0.316300  0.362794  0.735897   \n",
       "..        ...       ...       ...       ...       ...       ...       ...   \n",
       "599 -0.764837 -1.441641 -0.240031  0.000010  0.368399 -0.558480 -0.479575   \n",
       "825 -0.480906 -1.424124  0.819634  0.350137 -0.224955 -0.185211 -0.073917   \n",
       "881 -1.627348 -1.236003  0.419835  0.761502 -1.397386  1.037641  0.919749   \n",
       "646 -0.443174 -1.081771 -0.332739 -0.536079  0.055674 -0.276925 -0.382951   \n",
       "726 -1.681467 -0.122065 -0.276689  0.583219 -1.545920  1.054484  0.042762   \n",
       "\n",
       "     time_signature  key  mode  \n",
       "76                4   10     1  \n",
       "95                4   11     1  \n",
       "181               3   11     0  \n",
       "107               4    5     1  \n",
       "61                4    7     0  \n",
       "..              ...  ...   ...  \n",
       "599               4    3     0  \n",
       "825               4    2     1  \n",
       "881               4    8     1  \n",
       "646               4    9     1  \n",
       "726               4    4     0  \n",
       "\n",
       "[877 rows x 10 columns]"
      ]
     },
     "execution_count": 92,
     "metadata": {},
     "output_type": "execute_result"
    }
   ],
   "source": [
    "asdf = data[\"x_train\"].copy()\n",
    "\n",
    "pca_components = pca.transform(asdf[data[\"numeric_features\"]])\n",
    "cols = [f\"PC{x}\" for x in range(1, len(pca.explained_variance_ratio_)+1)]\n",
    "asdf_pd = pd.DataFrame(pca_components, columns=cols, index=data[\"x_train\"].index)\n",
    "asdf = pd.concat([asdf_pd, asdf[data[\"categorical_features\"]]], axis=1)\n",
    "asdf"
   ]
  },
  {
   "cell_type": "markdown",
   "metadata": {},
   "source": [
    "## Model Selection"
   ]
  },
  {
   "cell_type": "markdown",
   "metadata": {},
   "source": [
    "### Chi-square Test"
   ]
  },
  {
   "cell_type": "code",
   "execution_count": 271,
   "metadata": {},
   "outputs": [
    {
     "data": {
      "text/plain": [
       "<AxesSubplot:>"
      ]
     },
     "execution_count": 271,
     "metadata": {},
     "output_type": "execute_result"
    },
    {
     "data": {
      "image/png": "[encoded data removed]",
      "text/plain": [
       "<Figure size 432x288 with 1 Axes>"
      ]
     },
     "metadata": {
      "needs_background": "light"
     },
     "output_type": "display_data"
    }
   ],
   "source": [
    "chi2_statistics, chi2_p_scores = chi2(data[\"x_train\"][data[\"categorical_features\"]], data[\"y_train\"])\n",
    "chi2_scores = pd.Series(chi2_statistics, index=data[\"categorical_features\"])\n",
    "chi2_scores.sort_values(ascending=False).plot.bar()"
   ]
  },
  {
   "cell_type": "markdown",
   "metadata": {},
   "source": [
    "ANOVA f Test"
   ]
  },
  {
   "cell_type": "code",
   "execution_count": 272,
   "metadata": {},
   "outputs": [
    {
     "data": {
      "text/plain": [
       "<AxesSubplot:>"
      ]
     },
     "execution_count": 272,
     "metadata": {},
     "output_type": "execute_result"
    },
    {
     "data": {
      "image/png": "[encoded data removed]",
      "text/plain": [
       "<Figure size 432x288 with 1 Axes>"
      ]
     },
     "metadata": {
      "needs_background": "light"
     },
     "output_type": "display_data"
    }
   ],
   "source": [
    "anova_statistics, anova_p_scores = f_classif(data[\"x_train\"][data[\"numeric_features\"]], data[\"y_train\"])\n",
    "anova_scores = pd.Series(anova_statistics, index=data[\"numeric_features\"])\n",
    "anova_scores.sort_values(ascending=False).plot.bar()"
   ]
  },
  {
   "cell_type": "markdown",
   "metadata": {},
   "source": [
    "### Mutual Information"
   ]
  },
  {
   "cell_type": "code",
   "execution_count": 273,
   "metadata": {},
   "outputs": [
    {
     "data": {
      "text/plain": [
       "<AxesSubplot:>"
      ]
     },
     "execution_count": 273,
     "metadata": {},
     "output_type": "execute_result"
    },
    {
     "data": {
      "image/png": "[encoded data removed]",
      "text/plain": [
       "<Figure size 432x288 with 1 Axes>"
      ]
     },
     "metadata": {
      "needs_background": "light"
     },
     "output_type": "display_data"
    }
   ],
   "source": [
    "discrete_features_indices = [list(data[\"x_train\"].columns).index(x) for x in data[\"categorical_features\"]]\n",
    "mutual_statistics = mutual_info_classif(data[\"x_train\"], data[\"y_train\"], discrete_features=discrete_features_indices)\n",
    "mutual_scores = pd.Series(mutual_statistics, index=data[\"features\"])\n",
    "mutual_scores.sort_values(ascending=False).plot.bar()"
   ]
  },
  {
   "cell_type": "code",
   "execution_count": 274,
   "metadata": {},
   "outputs": [
    {
     "data": {
      "text/plain": [
       "<AxesSubplot:>"
      ]
     },
     "execution_count": 274,
     "metadata": {},
     "output_type": "execute_result"
    },
    {
     "data": {
      "image/png": "[encoded data removed]",
      "text/plain": [
       "<Figure size 432x288 with 1 Axes>"
      ]
     },
     "metadata": {
      "needs_background": "light"
     },
     "output_type": "display_data"
    }
   ],
   "source": [
    "discrete_features_indices = [list(x_test.columns).index(x) for x in categorical_features]\n",
    "mutual_statistics = mutual_info_classif(x_train, y_train, discrete_features=discrete_features_indices)\n",
    "mutual_scores = pd.Series(mutual_statistics, index=x_train.columns)\n",
    "mutual_scores.sort_values(ascending=False).plot.bar()"
   ]
  },
  {
   "cell_type": "markdown",
   "metadata": {},
   "source": [
    "### Tree-based feature importances"
   ]
  },
  {
   "cell_type": "code",
   "execution_count": 275,
   "metadata": {},
   "outputs": [
    {
     "data": {
      "image/png": "[encoded data removed]",
      "text/plain": [
       "<Figure size 432x288 with 1 Axes>"
      ]
     },
     "metadata": {
      "needs_background": "light"
     },
     "output_type": "display_data"
    }
   ],
   "source": [
    "clf = RandomForestClassifier(n_estimators=1000)\n",
    "clf = clf.fit(x_train, y_train)\n",
    "\n",
    "forest_importances = pd.Series(clf.feature_importances_, index=x_train.columns)\n",
    "fig, ax = plt.subplots()\n",
    "forest_importances.sort_values(ascending=False).plot.bar(ax=ax)\n",
    "ax.set_title(\"Feature importances using MDI\")\n",
    "ax.set_ylabel(\"Mean decrease in impurity\")\n",
    "fig.tight_layout()"
   ]
  },
  {
   "cell_type": "markdown",
   "metadata": {},
   "source": [
    "## Chose best features with forward feature selection"
   ]
  },
  {
   "cell_type": "code",
   "execution_count": 159,
   "metadata": {},
   "outputs": [
    {
     "name": "stdout",
     "output_type": "stream",
     "text": [
      "No. of features: 1, Features: ['energy'], Score: 0.5849486887115165\n",
      "No. of features: 2, Features: ['energy', 'speechiness'], Score: 0.7080957810718358\n",
      "No. of features: 3, Features: ['energy', 'speechiness', 'valence'], Score: 0.82212086659065\n",
      "No. of features: 4, Features: ['danceability', 'energy', 'speechiness', 'valence'], Score: 0.8700114025085519\n",
      "No. of features: 5, Features: ['danceability', 'energy', 'speechiness', 'valence', 'tempo'], Score: 0.9201824401368301\n",
      "No. of features: 6, Features: ['danceability', 'energy', 'speechiness', 'instrumentalness', 'valence', 'tempo'], Score: 0.9418472063854048\n",
      "No. of features: 7, Features: ['danceability', 'energy', 'speechiness', 'instrumentalness', 'valence', 'tempo', 'duration_ms'], Score: 0.9532497149372862\n",
      "No. of features: 8, Features: ['danceability', 'energy', 'mode', 'speechiness', 'instrumentalness', 'valence', 'tempo', 'duration_ms'], Score: 0.9578107183580388\n",
      "No. of features: 9, Features: ['danceability', 'energy', 'mode', 'speechiness', 'instrumentalness', 'valence', 'tempo', 'duration_ms', 'time_signature'], Score: 0.9372862029646523\n",
      "No. of features: 10, Features: ['danceability', 'energy', 'mode', 'speechiness', 'instrumentalness', 'liveness', 'valence', 'tempo', 'duration_ms', 'time_signature'], Score: 0.9452679589509693\n"
     ]
    }
   ],
   "source": [
    "for i in range(1, len(data[\"features\"])):\n",
    "    svc = SVC(C=10)\n",
    "    sfs_forward = SequentialFeatureSelector(\n",
    "        svc, n_features_to_select=i, direction=\"forward\"\n",
    "    ).fit(data[\"x_train\"], data[\"y_train\"])\n",
    "\n",
    "    feature_names = list(sfs_forward.get_feature_names_out())\n",
    "    svc.fit(data[\"x_train\"][feature_names], data[\"y_train\"])\n",
    "    print(f'No. of features: {len(feature_names)}, Features: {feature_names}, Score: {svc.score(data[\"x_train\"][feature_names], data[\"y_train\"])}')"
   ]
  }
 ],
 "metadata": {
  "interpreter": {
   "hash": "aee8b7b246df8f9039afb4144a1f6fd8d2ca17a180786b69acc140d282b71a49"
  },
  "kernelspec": {
   "display_name": "Python 3.7.9 64-bit",
   "language": "python",
   "name": "python3"
  },
  "language_info": {
   "codemirror_mode": {
    "name": "ipython",
    "version": 3
   },
   "file_extension": ".py",
   "mimetype": "text/x-python",
   "name": "python",
   "nbconvert_exporter": "python",
   "pygments_lexer": "ipython3",
   "version": "3.7.9"
  },
  "orig_nbformat": 4
 },
 "nbformat": 4,
 "nbformat_minor": 2
}
